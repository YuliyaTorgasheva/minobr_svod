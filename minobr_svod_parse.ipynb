{
 "cells": [
  {
   "cell_type": "code",
   "execution_count": 1,
   "metadata": {},
   "outputs": [],
   "source": [
    "import pandas as pd\n",
    "import json\n",
    "import glob\n",
    "import plotly.express as px"
   ]
  },
  {
   "cell_type": "code",
   "execution_count": 2,
   "metadata": {},
   "outputs": [],
   "source": [
    "files = glob.glob(r'C:\\\\Users\\\\yuliy\\\\Documents\\\\Своды Минобрнауки\\\\ВПО-1\\\\2023\\\\Своды ВПО-1 2023\\\\*\\\\*.xls')"
   ]
  },
  {
   "cell_type": "code",
   "execution_count": 7,
   "metadata": {},
   "outputs": [
    {
     "name": "stdout",
     "output_type": "stream",
     "text": [
      "C:\\\\Users\\\\yuliy\\\\Documents\\\\Своды Минобрнауки\\\\ВПО-1\\\\2023\\\\Своды ВПО-1 2023\\Государственные\\Алтайский край_ГОС_Аттестация экстернов.xls\n",
      "                                                   0         1  \\\n",
      "0                                     Алтайский край       NaN   \n",
      "1                     Государственные, Муниципальные       NaN   \n",
      "2                               Аттестация экстернов       NaN   \n",
      "3  2.8. Результаты приема на обучение по программ...       NaN   \n",
      "4  (без учета студентов из числа граждан иностран...       NaN   \n",
      "5                                                NaN       NaN   \n",
      "6                           Наименование показателей  № строки   \n",
      "7                                                NaN       NaN   \n",
      "8                                                NaN       NaN   \n",
      "\n",
      "                                                   2        3  \\\n",
      "0                                                NaN      NaN   \n",
      "1                                                NaN      NaN   \n",
      "2                                                NaN      NaN   \n",
      "3                                                NaN      NaN   \n",
      "4                                                NaN      NaN   \n",
      "5                                                NaN      NaN   \n",
      "6                             Программы бакалавриата      NaN   \n",
      "7  Обучение за счет бюджетных ассигнований федера...      NaN   \n",
      "8                                   подано заявлений  принято   \n",
      "\n",
      "                                                   4  \\\n",
      "0                                                NaN   \n",
      "1                                                NaN   \n",
      "2                                                NaN   \n",
      "3                                                NaN   \n",
      "4                                                NaN   \n",
      "5                                                NaN   \n",
      "6                                                NaN   \n",
      "7  Обучение по договорам об оказании платных обра...   \n",
      "8                                   подано заявлений   \n",
      "\n",
      "                                     5  \\\n",
      "0                                  NaN   \n",
      "1                                  NaN   \n",
      "2                                  NaN   \n",
      "3                                  NaN   \n",
      "4                                  NaN   \n",
      "5                                  NaN   \n",
      "6                                  NaN   \n",
      "7  на базе среднего общего образования   \n",
      "8                              принято   \n",
      "\n",
      "                                                   6        7  \\\n",
      "0                                                NaN      NaN   \n",
      "1                                                NaN      NaN   \n",
      "2                                                NaN      NaN   \n",
      "3                                                NaN      NaN   \n",
      "4                                                NaN      NaN   \n",
      "5                                                NaN      NaN   \n",
      "6                             Программы специалитета      NaN   \n",
      "7  Обучение за счет бюджетных ассигнований федера...      NaN   \n",
      "8                                   подано заявлений  принято   \n",
      "\n",
      "                                                   8  \\\n",
      "0                                                NaN   \n",
      "1                                                NaN   \n",
      "2                                                NaN   \n",
      "3                                                NaN   \n",
      "4                                                NaN   \n",
      "5                                                NaN   \n",
      "6                                                NaN   \n",
      "7  Обучение по договорам об оказании платных обра...   \n",
      "8                                   подано заявлений   \n",
      "\n",
      "                                     9  \n",
      "0                                  NaN  \n",
      "1                                  NaN  \n",
      "2                                  NaN  \n",
      "3                                  NaN  \n",
      "4                                  NaN  \n",
      "5                                  NaN  \n",
      "6                                  NaN  \n",
      "7  на базе среднего общего образования  \n",
      "8                              принято  \n"
     ]
    }
   ],
   "source": [
    "for every in files[:1]:\n",
    "    print(every)\n",
    "    df = pd.read_excel(every,sheet_name = 'Р2_8', header=None)\n",
    "    print(df.iloc[:9])\n",
    "                       "
   ]
  }
 ],
 "metadata": {
  "kernelspec": {
   "display_name": "Python 3",
   "language": "python",
   "name": "python3"
  },
  "language_info": {
   "codemirror_mode": {
    "name": "ipython",
    "version": 3
   },
   "file_extension": ".py",
   "mimetype": "text/x-python",
   "name": "python",
   "nbconvert_exporter": "python",
   "pygments_lexer": "ipython3",
   "version": "3.11.9"
  }
 },
 "nbformat": 4,
 "nbformat_minor": 2
}
